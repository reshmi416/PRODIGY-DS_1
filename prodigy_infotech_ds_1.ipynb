{
  "nbformat": 4,
  "nbformat_minor": 0,
  "metadata": {
    "colab": {
      "provenance": [],
      "authorship_tag": "ABX9TyPlHBsq1Vo6BdTwrmqCJkLB",
      "include_colab_link": true
    },
    "kernelspec": {
      "name": "python3",
      "display_name": "Python 3"
    },
    "language_info": {
      "name": "python"
    }
  },
  "cells": [
    {
      "cell_type": "markdown",
      "metadata": {
        "id": "view-in-github",
        "colab_type": "text"
      },
      "source": [
        "<a href=\"https://colab.research.google.com/github/reshmi416/PRODIGY-DS_1/blob/main/prodigy_infotech_ds_1.ipynb\" target=\"_parent\"><img src=\"https://colab.research.google.com/assets/colab-badge.svg\" alt=\"Open In Colab\"/></a>"
      ]
    },
    {
      "cell_type": "code",
      "source": [
        "# prompt: data = pd.read_csv(\"population.csv\", sep='\\t')\n",
        "\n",
        "import pandas as pd\n",
        "import matplotlib.pyplot as plt\n",
        "from google.colab import files\n",
        "\n",
        "# Assuming population.csv is already uploaded\n",
        "data = pd.read_csv(\"population.csv\", sep='\\t')\n",
        "\n",
        "# Display the first 266 rows of the DataFrame\n",
        "data.head(266)\n",
        "\n",
        "# Display descriptive statistics of the DataFrame\n",
        "data.describe()\n",
        "\n",
        "# Create a DataFrame from the data (already done, this is redundant if 'data' is already a DataFrame)\n",
        "df = pd.DataFrame(data)\n",
        "\n",
        "# Display the first few rows of the DataFrame\n",
        "df.head()\n",
        "\n",
        "# Display the column names of the DataFrame\n",
        "df.columns"
      ],
      "metadata": {
        "colab": {
          "base_uri": "https://localhost:8080/"
        },
        "id": "zwKqbNqmuP_-",
        "outputId": "1fcc21cc-8d47-4cdd-c6fe-71c8063ce7df"
      },
      "execution_count": 20,
      "outputs": [
        {
          "output_type": "execute_result",
          "data": {
            "text/plain": [
              "Index(['Country Name,Country Code,Indicator Name,Indicator Code,1960,1961,1962,1963,1964,1965,1966,1967,1968,1969,1970,1971,1972,1973,1974,1975,1976,1977,1978,1979,1980,1981,1982,1983,1984,1985,1986,1987,1988,1989,1990,1991,1992,1993,1994,1995,1996,1997,1998,1999,2000,2001,2002,2003,2004,2005,2006,2007,2008,2009,2010,2011,2012,2013,2014,2015,2016,2017,2018,2019,2020,2021,2022'], dtype='object')"
            ]
          },
          "metadata": {},
          "execution_count": 20
        }
      ]
    },
    {
      "cell_type": "code",
      "source": [
        "import pandas as pd\n",
        "import matplotlib.pyplot as plt\n",
        "\n",
        "# Reading the CSV file with the correct separator\n",
        "data = pd.read_csv(\"population.csv\", sep=',')\n",
        "\n",
        "# Print unique country names to verify the correct names\n",
        "print(data['Country Name'].unique())\n",
        "\n",
        "# Specify the countries you want to plot\n",
        "countries_to_plot = ['India', 'China', 'United States']  # Replace with actual country names from the print output\n",
        "\n",
        "# Filter data for specific countries\n",
        "filtered_data = data[data['Country Name'].isin(countries_to_plot)]\n",
        "\n",
        "# Debugging: Print the filtered data to check if it contains the expected rows\n",
        "print(filtered_data)\n",
        "\n",
        "# Check if the '1995' column has data for the selected countries\n",
        "print(filtered_data['1995'])\n",
        "\n",
        "# Check for any non-numeric values or missing data in the '1995' column\n",
        "print(filtered_data['1995'].dtype)\n",
        "print(filtered_data['1995'].isnull().sum())\n",
        "\n",
        "# Create the bar chart\n",
        "plt.bar(filtered_data['Country Name'], filtered_data['1995'])\n",
        "plt.xlabel('Country Name')\n",
        "plt.ylabel('Population in 1995')\n",
        "plt.title('Population of selected countries in 1995')\n",
        "plt.xticks(rotation=45, ha='right')  # Rotate the x-axis labels for readability\n",
        "plt.show()\n"
      ],
      "metadata": {
        "colab": {
          "base_uri": "https://localhost:8080/",
          "height": 1000
        },
        "id": "lvk28eu24tHl",
        "outputId": "0f8629bf-78c5-4226-a995-0f183b68f1d7"
      },
      "execution_count": 56,
      "outputs": [
        {
          "output_type": "stream",
          "name": "stdout",
          "text": [
            "['Aruba' 'Africa Eastern and Southern' 'Afghanistan'\n",
            " 'Africa Western and Central' 'Angola' 'Albania' 'Andorra' 'Arab World'\n",
            " 'United Arab Emirates' 'Argentina' 'Armenia' 'American Samoa'\n",
            " 'Antigua and Barbuda' 'Australia' 'Austria' 'Azerbaijan' 'Burundi'\n",
            " 'Belgium' 'Benin' 'Burkina Faso' 'Bangladesh' 'Bulgaria' 'Bahrain'\n",
            " 'Bahamas, The' 'Bosnia and Herzegovina' 'Belarus' 'Belize' 'Bermuda'\n",
            " 'Bolivia' 'Brazil' 'Barbados' 'Brunei Darussalam' 'Bhutan' 'Botswana'\n",
            " 'Central African Republic' 'Canada' 'Central Europe and the Baltics'\n",
            " 'Switzerland' 'Channel Islands' 'Chile' 'China' \"Cote d'Ivoire\"\n",
            " 'Cameroon' 'Congo, Dem. Rep.' 'Congo, Rep.' 'Colombia' 'Comoros'\n",
            " 'Cabo Verde' 'Costa Rica' 'Caribbean small states' 'Cuba' 'Curacao'\n",
            " 'Cayman Islands' 'Cyprus' 'Czechia' 'Germany' 'Djibouti' 'Dominica'\n",
            " 'Denmark' 'Dominican Republic' 'Algeria'\n",
            " 'East Asia & Pacific (excluding high income)'\n",
            " 'Early-demographic dividend' 'East Asia & Pacific'\n",
            " 'Europe & Central Asia (excluding high income)' 'Europe & Central Asia'\n",
            " 'Ecuador' 'Egypt, Arab Rep.' 'Euro area' 'Eritrea' 'Spain' 'Estonia'\n",
            " 'Ethiopia' 'European Union' 'Fragile and conflict affected situations'\n",
            " 'Finland' 'Fiji' 'France' 'Faroe Islands' 'Micronesia, Fed. Sts.' 'Gabon'\n",
            " 'United Kingdom' 'Georgia' 'Ghana' 'Gibraltar' 'Guinea' 'Gambia, The'\n",
            " 'Guinea-Bissau' 'Equatorial Guinea' 'Greece' 'Grenada' 'Greenland'\n",
            " 'Guatemala' 'Guam' 'Guyana' 'High income' 'Hong Kong SAR, China'\n",
            " 'Honduras' 'Heavily indebted poor countries (HIPC)' 'Croatia' 'Haiti'\n",
            " 'Hungary' 'IBRD only' 'IDA & IBRD total' 'IDA total' 'IDA blend'\n",
            " 'Indonesia' 'IDA only' 'Isle of Man' 'India' 'Not classified' 'Ireland'\n",
            " 'Iran, Islamic Rep.' 'Iraq' 'Iceland' 'Israel' 'Italy' 'Jamaica' 'Jordan'\n",
            " 'Japan' 'Kazakhstan' 'Kenya' 'Kyrgyz Republic' 'Cambodia' 'Kiribati'\n",
            " 'St. Kitts and Nevis' 'Korea, Rep.' 'Kuwait'\n",
            " 'Latin America & Caribbean (excluding high income)' 'Lao PDR' 'Lebanon'\n",
            " 'Liberia' 'Libya' 'St. Lucia' 'Latin America & Caribbean'\n",
            " 'Least developed countries: UN classification' 'Low income'\n",
            " 'Liechtenstein' 'Sri Lanka' 'Lower middle income' 'Low & middle income'\n",
            " 'Lesotho' 'Late-demographic dividend' 'Lithuania' 'Luxembourg' 'Latvia'\n",
            " 'Macao SAR, China' 'St. Martin (French part)' 'Morocco' 'Monaco'\n",
            " 'Moldova' 'Madagascar' 'Maldives' 'Middle East & North Africa' 'Mexico'\n",
            " 'Marshall Islands' 'Middle income' 'North Macedonia' 'Mali' 'Malta'\n",
            " 'Myanmar' 'Middle East & North Africa (excluding high income)'\n",
            " 'Montenegro' 'Mongolia' 'Northern Mariana Islands' 'Mozambique'\n",
            " 'Mauritania' 'Mauritius' 'Malawi' 'Malaysia' 'North America' 'Namibia'\n",
            " 'New Caledonia' 'Niger' 'Nigeria' 'Nicaragua' 'Netherlands' 'Norway'\n",
            " 'Nepal' 'Nauru' 'New Zealand' 'OECD members' 'Oman' 'Other small states'\n",
            " 'Pakistan' 'Panama' 'Peru' 'Philippines' 'Palau' 'Papua New Guinea'\n",
            " 'Poland' 'Pre-demographic dividend' 'Puerto Rico'\n",
            " \"Korea, Dem. People's Rep.\" 'Portugal' 'Paraguay' 'West Bank and Gaza'\n",
            " 'Pacific island small states' 'Post-demographic dividend'\n",
            " 'French Polynesia' 'Qatar' 'Romania' 'Russian Federation' 'Rwanda'\n",
            " 'South Asia' 'Saudi Arabia' 'Sudan' 'Senegal' 'Singapore'\n",
            " 'Solomon Islands' 'Sierra Leone' 'El Salvador' 'San Marino' 'Somalia'\n",
            " 'Serbia' 'Sub-Saharan Africa (excluding high income)' 'South Sudan'\n",
            " 'Sub-Saharan Africa' 'Small states' 'Sao Tome and Principe' 'Suriname'\n",
            " 'Slovak Republic' 'Slovenia' 'Sweden' 'Eswatini'\n",
            " 'Sint Maarten (Dutch part)' 'Seychelles' 'Syrian Arab Republic'\n",
            " 'Turks and Caicos Islands' 'Chad'\n",
            " 'East Asia & Pacific (IDA & IBRD countries)'\n",
            " 'Europe & Central Asia (IDA & IBRD countries)' 'Togo' 'Thailand'\n",
            " 'Tajikistan' 'Turkmenistan'\n",
            " 'Latin America & the Caribbean (IDA & IBRD countries)' 'Timor-Leste'\n",
            " 'Middle East & North Africa (IDA & IBRD countries)' 'Tonga'\n",
            " 'South Asia (IDA & IBRD)' 'Sub-Saharan Africa (IDA & IBRD countries)'\n",
            " 'Trinidad and Tobago' 'Tunisia' 'Turkiye' 'Tuvalu' 'Tanzania' 'Uganda'\n",
            " 'Ukraine' 'Upper middle income' 'Uruguay' 'United States' 'Uzbekistan'\n",
            " 'St. Vincent and the Grenadines' 'Venezuela, RB' 'British Virgin Islands'\n",
            " 'Virgin Islands (U.S.)' 'Viet Nam' 'Vanuatu' 'World' 'Samoa' 'Kosovo'\n",
            " 'Yemen, Rep.' 'South Africa' 'Zambia' 'Zimbabwe']\n",
            "      Country Name Country Code     Indicator Name Indicator Code  \\\n",
            "40           China          CHN  Population, total    SP.POP.TOTL   \n",
            "109          India          IND  Population, total    SP.POP.TOTL   \n",
            "251  United States          USA  Population, total    SP.POP.TOTL   \n",
            "\n",
            "            1960         1961         1962         1963         1964  \\\n",
            "40   667070000.0  660330000.0  665770000.0  682335000.0  698355000.0   \n",
            "109  445954579.0  456351876.0  467024193.0  477933619.0  489059309.0   \n",
            "251  180671000.0  183691000.0  186538000.0  189242000.0  191889000.0   \n",
            "\n",
            "            1965  ...          2013          2014          2015          2016  \\\n",
            "40   715185000.0  ...  1.363240e+09  1.371860e+09  1.379860e+09  1.387790e+09   \n",
            "109  500114346.0  ...  1.291132e+09  1.307247e+09  1.322867e+09  1.338636e+09   \n",
            "251  194303000.0  ...  3.160599e+08  3.183863e+08  3.207390e+08  3.230718e+08   \n",
            "\n",
            "             2017          2018          2019          2020          2021  \\\n",
            "40   1.396215e+09  1.402760e+09  1.407745e+09  1.411100e+09  1.412360e+09   \n",
            "109  1.354196e+09  1.369003e+09  1.383112e+09  1.396387e+09  1.407564e+09   \n",
            "251  3.251221e+08  3.268382e+08  3.283300e+08  3.315115e+08  3.320316e+08   \n",
            "\n",
            "             2022  \n",
            "40   1.412175e+09  \n",
            "109  1.417173e+09  \n",
            "251  3.332876e+08  \n",
            "\n",
            "[3 rows x 67 columns]\n",
            "40     1.204855e+09\n",
            "109    9.642791e+08\n",
            "251    2.662780e+08\n",
            "Name: 1995, dtype: float64\n",
            "float64\n",
            "0\n"
          ]
        },
        {
          "output_type": "display_data",
          "data": {
            "text/plain": [
              "<Figure size 640x480 with 1 Axes>"
            ],
            "image/png": "[encoded data removed]"
          },
          "metadata": {}
        }
      ]
    },
    {
      "cell_type": "code",
      "source": [
        "from google.colab import drive\n",
        "drive.mount('/content/drive')"
      ],
      "metadata": {
        "id": "9NnZKwb_vkyR"
      },
      "execution_count": null,
      "outputs": []
    }
  ]
}